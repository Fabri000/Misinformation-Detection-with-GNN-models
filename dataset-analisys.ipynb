{
 "cells": [
  {
   "cell_type": "markdown",
   "metadata": {},
   "source": [
    "# Import librerie"
   ]
  },
  {
   "cell_type": "code",
   "execution_count": 3,
   "metadata": {},
   "outputs": [],
   "source": [
    "import json\n",
    "import numpy as np\n",
    "\n",
    "import networkx as nx\n",
    "from networkx.readwrite import json_graph"
   ]
  },
  {
   "cell_type": "markdown",
   "metadata": {},
   "source": [
    "# Classi ausiliarie"
   ]
  },
  {
   "cell_type": "code",
   "execution_count": 4,
   "metadata": {},
   "outputs": [],
   "source": [
    "class DataAnalyzer():\n",
    "\n",
    "    def __init__(self,path):\n",
    "        '''\n",
    "        Args:\n",
    "            path (str): path al file contenente i dati\n",
    "        '''\n",
    "        self.data = self._read_from_json_(path)\n",
    "\n",
    "    def _read_from_json_(self,paths):\n",
    "        '''\n",
    "        Estrai i grafi contenuti in una lista di file.\n",
    "        Args:\n",
    "            paths (list[str]): Paths ai file contenenti i grafi\n",
    "        Returns:\n",
    "            GS (list[nx.Graph]): Grafi contenuti nei files\n",
    "        '''\n",
    "        GS = []\n",
    "        for path in paths:\n",
    "            json_gs= None\n",
    "            with open(path,'r') as file:\n",
    "                json_gs = json.load(file)\n",
    "                file.close()\n",
    "            for g in json_gs:\n",
    "                GS.append(json_graph.node_link_graph(g))\n",
    "        return GS\n",
    "\n",
    "    def get_data(self):\n",
    "        '''\n",
    "        Restituisce i grafi.\n",
    "        Returns:\n",
    "            _ (nx.Graph): grafo\n",
    "        '''\n",
    "        return self.data\n",
    "    \n",
    "    def get_info(self,info):\n",
    "        '''\n",
    "        Restituisce le informazioni sui dati richieste\n",
    "        Args:\n",
    "            info (str): informazione desiderata\n",
    "        Returns:\n",
    "        '''\n",
    "        GS = self.get_data()\n",
    "        num_graphs = len(GS)\n",
    "        match(info):\n",
    "            case \"average degree\":\n",
    "                return [float(np.mean([d for _,d in GS[g].degree()])) for g in range(num_graphs)]\n",
    "            case \"average degree centrality\":\n",
    "                return [float(np.mean([c for c in nx.degree_centrality(GS[g]).values()])) for g in range(num_graphs)]\n",
    "            case \"average clossness centrality\":\n",
    "                return [float(np.mean([c for c in nx.closeness_centrality(GS[g]).values()])) for g in range(num_graphs)]\n",
    "            case \"average betweenness centrality\":\n",
    "                return [float(np.mean([c for c in nx.betweenness_centrality(GS[g]).values()])) for g in range(num_graphs)]\n",
    "            case \"average path lenght\":\n",
    "                return np.mean([nx.average_shortest_path_length(GS[g]) for g in range(num_graphs)])\n",
    "            case \"average clustering coefficent\":\n",
    "                return np.mean([nx.average_clustering(GS[g]) for g in range(num_graphs)])"
   ]
  },
  {
   "cell_type": "markdown",
   "metadata": {},
   "source": [
    "# Analisi"
   ]
  },
  {
   "cell_type": "code",
   "execution_count": 5,
   "metadata": {},
   "outputs": [
    {
     "name": "stderr",
     "output_type": "stream",
     "text": [
      "/home/fabri/anaconda3/envs/sma-prj/lib/python3.13/site-packages/networkx/readwrite/json_graph/node_link.py:287: FutureWarning: \n",
      "The default value will be changed to `edges=\"edges\" in NetworkX 3.6.\n",
      "\n",
      "To make this warning go away, explicitly set the edges kwarg, e.g.:\n",
      "\n",
      "  nx.node_link_graph(data, edges=\"links\") to preserve current behavior, or\n",
      "  nx.node_link_graph(data, edges=\"edges\") for forward compatibility.\n",
      "  warnings.warn(\n"
     ]
    }
   ],
   "source": [
    "d = DataAnalyzer([\"advanced mixed test.json\"])"
   ]
  },
  {
   "cell_type": "code",
   "execution_count": 6,
   "metadata": {},
   "outputs": [
    {
     "name": "stdout",
     "output_type": "stream",
     "text": [
      "[0.014411189695819678, 0.014631237769080234, 0.015664160401002505, 0.014353807821471129, 0.013726513569937367, 0.013672374137490416, 0.015481864899083935, 0.01438766114180479, 0.014813184663536778, 0.01704684442270059, 0.014279598825831703, 0.014037433155080214, 0.014421514462138447, 0.015547263681592042, 0.014333115752828548, 0.01678851070629594, 0.015771713615023476, 0.014261201761201762, 0.01357498223169865, 0.015012531328320802, 0.015474958311770457, 0.0135893176590851, 0.015263157894736843, 0.014348479236119685, 0.014224325500435162, 0.014761191291585126, 0.01394991621671942, 0.014255672926447577, 0.014379220471508114, 0.013093180228011687]\n"
     ]
    }
   ],
   "source": [
    "print(d.get_info(\"average degree centrality\"))"
   ]
  },
  {
   "cell_type": "code",
   "execution_count": 7,
   "metadata": {},
   "outputs": [
    {
     "name": "stdout",
     "output_type": "stream",
     "text": [
      "0.2938398560037914\n"
     ]
    }
   ],
   "source": [
    "print(d.get_info(\"average clustering coefficent\"))"
   ]
  }
 ],
 "metadata": {
  "kernelspec": {
   "display_name": "sma-prj",
   "language": "python",
   "name": "python3"
  },
  "language_info": {
   "codemirror_mode": {
    "name": "ipython",
    "version": 3
   },
   "file_extension": ".py",
   "mimetype": "text/x-python",
   "name": "python",
   "nbconvert_exporter": "python",
   "pygments_lexer": "ipython3",
   "version": "3.13.0"
  }
 },
 "nbformat": 4,
 "nbformat_minor": 2
}
