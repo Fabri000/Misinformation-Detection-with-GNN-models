{
 "cells": [
  {
   "cell_type": "markdown",
   "metadata": {},
   "source": [
    "# Import librerie"
   ]
  },
  {
   "cell_type": "code",
   "execution_count": 1,
   "metadata": {},
   "outputs": [],
   "source": [
    "import json\n",
    "import numpy as np\n",
    "\n",
    "import networkx as nx\n",
    "from networkx.readwrite import json_graph"
   ]
  },
  {
   "cell_type": "markdown",
   "metadata": {},
   "source": [
    "# Classi ausiliarie"
   ]
  },
  {
   "cell_type": "code",
   "execution_count": 2,
   "metadata": {},
   "outputs": [],
   "source": [
    "class DataAnalyzer():\n",
    "\n",
    "    def __init__(self,path):\n",
    "        '''\n",
    "        Args:\n",
    "            path (str): path al file contenente i dati\n",
    "        '''\n",
    "        self.data = self._read_from_json_(path)\n",
    "\n",
    "    def _read_from_json_(self,paths):\n",
    "        '''\n",
    "        Estrai i grafi contenuti in una lista di file.\n",
    "        Args:\n",
    "            paths (list[str]): Paths ai file contenenti i grafi\n",
    "        Returns:\n",
    "            GS (list[nx.Graph]): Grafi contenuti nei files\n",
    "        '''\n",
    "        GS = []\n",
    "        for path in paths:\n",
    "            json_gs= None\n",
    "            with open(path,'r') as file:\n",
    "                json_gs = json.load(file)\n",
    "                file.close()\n",
    "            for g in json_gs:\n",
    "                GS.append(json_graph.node_link_graph(g))\n",
    "        return GS\n",
    "\n",
    "    def get_data(self):\n",
    "        '''\n",
    "        Restituisce i grafi.\n",
    "        Returns:\n",
    "            _ (nx.Graph): grafo\n",
    "        '''\n",
    "        return self.data\n",
    "    \n",
    "    def _avg_nodes_(self):\n",
    "        '''\n",
    "        Restituisce la media del numero di nodi\n",
    "        Returns:\n",
    "            (float): media del numero di nodi nella collezione di grafi\n",
    "        '''\n",
    "        GS = self.get_data()\n",
    "        nodes = [len(g.nodes) for g in GS]\n",
    "        return np.mean(nodes)\n",
    "    \n",
    "    def _avg_mis_fraction_(self):\n",
    "        '''\n",
    "        Restituisce la frazione di nodi misinformativi media sui grafi.\n",
    "        Returns:\n",
    "            _ (float): media della frazione di nodi misinformativi.\n",
    "        '''\n",
    "        GS = self.get_data()\n",
    "        return np.mean([float(np.sum([1 for i in g.nodes if g.nodes[i]['Misinformative']==1]) / len(g.nodes)) for g in GS])\n",
    "    \n",
    "    def get_info(self,info):\n",
    "        '''\n",
    "        Restituisce le informazioni sui dati richieste\n",
    "        Args:\n",
    "            info (str): informazione desiderata\n",
    "        Returns:\n",
    "            _ (float): valore dell'informazione\n",
    "        '''\n",
    "        GS = self.get_data()\n",
    "        match(info):\n",
    "            case \"average degree\":\n",
    "                return np.mean([float(np.mean([d for _,d in g.degree()])) for g in GS])\n",
    "            case \"average degree centrality\":\n",
    "                return [float(np.mean([c for c in nx.degree_centrality(g).values()])) for g in GS]\n",
    "            case \"average clossness centrality\":\n",
    "                return [float(np.mean([c for c in nx.closeness_centrality(g).values()])) for g in GS]\n",
    "            case \"average betweenness centrality\":\n",
    "                return [float(np.mean([c for c in nx.betweenness_centrality(g,len(g.nodes) // 2).values()])) for g in GS]\n",
    "            case \"average path lenght\":\n",
    "                return np.mean([nx.average_shortest_path_length(g) for g in GS])\n",
    "            case \"average clustering coefficent\":\n",
    "                return np.mean([nx.average_clustering(g) for g in GS])\n",
    "            case \"average nodes\":\n",
    "                return self._avg_nodes_()\n",
    "            case \"average fraction misinformative\":\n",
    "                return self._avg_mis_fraction_()\n",
    "            case \"nodes\":\n",
    "                return  [len(g.nodes) for g in GS]\n",
    "            case \"degrees\":\n",
    "                return [float(np.mean([d for _,d in g.degree()])) for g in GS]\n",
    "    \n"
   ]
  },
  {
   "cell_type": "markdown",
   "metadata": {},
   "source": [
    "# Analisi Train"
   ]
  },
  {
   "cell_type": "code",
   "execution_count": 3,
   "metadata": {},
   "outputs": [
    {
     "name": "stderr",
     "output_type": "stream",
     "text": [
      "/home/fabri/anaconda3/envs/sma-prj/lib/python3.13/site-packages/networkx/readwrite/json_graph/node_link.py:287: FutureWarning: \n",
      "The default value will be changed to `edges=\"edges\" in NetworkX 3.6.\n",
      "\n",
      "To make this warning go away, explicitly set the edges kwarg, e.g.:\n",
      "\n",
      "  nx.node_link_graph(data, edges=\"links\") to preserve current behavior, or\n",
      "  nx.node_link_graph(data, edges=\"edges\") for forward compatibility.\n",
      "  warnings.warn(\n"
     ]
    }
   ],
   "source": [
    "d = DataAnalyzer([\"advanced mixed train.json\"])"
   ]
  },
  {
   "cell_type": "code",
   "execution_count": 4,
   "metadata": {},
   "outputs": [
    {
     "name": "stdout",
     "output_type": "stream",
     "text": [
      "min 1040, max 2054\n"
     ]
    }
   ],
   "source": [
    "nodes = d.get_info(\"nodes\")\n",
    "print(f'min {np.min(nodes)}, max {np.max(nodes)}')"
   ]
  },
  {
   "cell_type": "code",
   "execution_count": 5,
   "metadata": {},
   "outputs": [
    {
     "name": "stdout",
     "output_type": "stream",
     "text": [
      "min 8.717307692307692, max 19.983805668016196\n"
     ]
    }
   ],
   "source": [
    "deg = d.get_info(\"degrees\")\n",
    "print(f'min {np.min(deg)}, max {np.max(deg)}')"
   ]
  },
  {
   "cell_type": "code",
   "execution_count": 6,
   "metadata": {},
   "outputs": [
    {
     "name": "stdout",
     "output_type": "stream",
     "text": [
      "13.746563732841953\n"
     ]
    }
   ],
   "source": [
    "print(d.get_info(\"average degree\"))"
   ]
  },
  {
   "cell_type": "code",
   "execution_count": 7,
   "metadata": {},
   "outputs": [
    {
     "name": "stdout",
     "output_type": "stream",
     "text": [
      "1555.3672727272726\n"
     ]
    }
   ],
   "source": [
    "print(d.get_info(\"average nodes\"))"
   ]
  },
  {
   "cell_type": "code",
   "execution_count": 8,
   "metadata": {},
   "outputs": [
    {
     "name": "stdout",
     "output_type": "stream",
     "text": [
      "0.30625418935562687\n"
     ]
    }
   ],
   "source": [
    "print(d.get_info(\"average fraction misinformative\"))"
   ]
  },
  {
   "cell_type": "code",
   "execution_count": 9,
   "metadata": {},
   "outputs": [
    {
     "name": "stdout",
     "output_type": "stream",
     "text": [
      "5.010220188290828\n"
     ]
    }
   ],
   "source": [
    "print(d.get_info(\"average path lenght\"))"
   ]
  },
  {
   "cell_type": "code",
   "execution_count": 10,
   "metadata": {},
   "outputs": [
    {
     "name": "stdout",
     "output_type": "stream",
     "text": [
      "0.318246260814112\n"
     ]
    }
   ],
   "source": [
    "print(d.get_info(\"average clustering coefficent\"))"
   ]
  },
  {
   "cell_type": "code",
   "execution_count": 11,
   "metadata": {},
   "outputs": [
    {
     "name": "stdout",
     "output_type": "stream",
     "text": [
      "0.008860721565789896\n"
     ]
    }
   ],
   "source": [
    "print(float(np.mean(d.get_info(\"average degree centrality\"))))"
   ]
  },
  {
   "cell_type": "code",
   "execution_count": 12,
   "metadata": {},
   "outputs": [
    {
     "name": "stdout",
     "output_type": "stream",
     "text": [
      "0.20165574738100248\n"
     ]
    }
   ],
   "source": [
    "print(float(np.mean(d.get_info(\"average clossness centrality\"))))"
   ]
  },
  {
   "cell_type": "code",
   "execution_count": 13,
   "metadata": {},
   "outputs": [
    {
     "name": "stdout",
     "output_type": "stream",
     "text": [
      "0.002713552872963123\n"
     ]
    }
   ],
   "source": [
    "print(float(np.mean(d.get_info(\"average betweenness centrality\"))))"
   ]
  },
  {
   "cell_type": "markdown",
   "metadata": {},
   "source": [
    "# Analisi Validation"
   ]
  },
  {
   "cell_type": "code",
   "execution_count": 14,
   "metadata": {},
   "outputs": [],
   "source": [
    "d = DataAnalyzer([\"advanced mixed validation.json\"])"
   ]
  },
  {
   "cell_type": "code",
   "execution_count": 15,
   "metadata": {},
   "outputs": [
    {
     "name": "stdout",
     "output_type": "stream",
     "text": [
      "min 2050, max 4059\n"
     ]
    }
   ],
   "source": [
    "nodes = d.get_info(\"nodes\")\n",
    "print(f'min {np.min(nodes)}, max {np.max(nodes)}')"
   ]
  },
  {
   "cell_type": "code",
   "execution_count": 16,
   "metadata": {},
   "outputs": [
    {
     "name": "stdout",
     "output_type": "stream",
     "text": [
      "min 10.698536585365854, max 23.296747967479675\n"
     ]
    }
   ],
   "source": [
    "deg = d.get_info(\"degrees\")\n",
    "print(f'min {np.min(deg)}, max {np.max(deg)}')"
   ]
  },
  {
   "cell_type": "code",
   "execution_count": 17,
   "metadata": {},
   "outputs": [
    {
     "name": "stdout",
     "output_type": "stream",
     "text": [
      "17.198488382479713\n"
     ]
    }
   ],
   "source": [
    "print(d.get_info(\"average degree\"))"
   ]
  },
  {
   "cell_type": "code",
   "execution_count": 18,
   "metadata": {},
   "outputs": [
    {
     "name": "stdout",
     "output_type": "stream",
     "text": [
      "3125.84\n"
     ]
    }
   ],
   "source": [
    "print(d.get_info(\"average nodes\"))"
   ]
  },
  {
   "cell_type": "code",
   "execution_count": 19,
   "metadata": {},
   "outputs": [
    {
     "name": "stdout",
     "output_type": "stream",
     "text": [
      "0.3336608383290788\n"
     ]
    }
   ],
   "source": [
    "print(d.get_info(\"average fraction misinformative\"))"
   ]
  },
  {
   "cell_type": "code",
   "execution_count": 20,
   "metadata": {},
   "outputs": [
    {
     "name": "stdout",
     "output_type": "stream",
     "text": [
      "5.17744860086611\n"
     ]
    }
   ],
   "source": [
    "print(d.get_info(\"average path lenght\"))"
   ]
  },
  {
   "cell_type": "code",
   "execution_count": 21,
   "metadata": {},
   "outputs": [
    {
     "name": "stdout",
     "output_type": "stream",
     "text": [
      "0.31618526545786724\n"
     ]
    }
   ],
   "source": [
    "print(d.get_info(\"average clustering coefficent\"))"
   ]
  },
  {
   "cell_type": "code",
   "execution_count": 22,
   "metadata": {},
   "outputs": [
    {
     "name": "stdout",
     "output_type": "stream",
     "text": [
      "0.005488836098690822\n"
     ]
    }
   ],
   "source": [
    "print(float(np.mean(d.get_info(\"average degree centrality\"))))"
   ]
  },
  {
   "cell_type": "code",
   "execution_count": 23,
   "metadata": {},
   "outputs": [
    {
     "name": "stdout",
     "output_type": "stream",
     "text": [
      "0.194785456030119\n"
     ]
    }
   ],
   "source": [
    "print(float(np.mean(d.get_info(\"average clossness centrality\"))))"
   ]
  },
  {
   "cell_type": "code",
   "execution_count": 24,
   "metadata": {},
   "outputs": [
    {
     "name": "stdout",
     "output_type": "stream",
     "text": [
      "0.0014013056192987577\n"
     ]
    }
   ],
   "source": [
    "print(float(np.mean(d.get_info(\"average betweenness centrality\"))))"
   ]
  }
 ],
 "metadata": {
  "kernelspec": {
   "display_name": "sma-prj",
   "language": "python",
   "name": "python3"
  },
  "language_info": {
   "codemirror_mode": {
    "name": "ipython",
    "version": 3
   },
   "file_extension": ".py",
   "mimetype": "text/x-python",
   "name": "python",
   "nbconvert_exporter": "python",
   "pygments_lexer": "ipython3",
   "version": "3.13.0"
  }
 },
 "nbformat": 4,
 "nbformat_minor": 2
}
